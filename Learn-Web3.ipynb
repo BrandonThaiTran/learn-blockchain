{
 "cells": [
  {
   "cell_type": "code",
   "execution_count": 1,
   "id": "3e1ef0af-09fe-427f-9ebf-31b1ef784035",
   "metadata": {},
   "outputs": [],
   "source": [
    "from web3 import Web3"
   ]
  },
  {
   "cell_type": "markdown",
   "id": "8df32201-1975-4892-a2ee-b4c64cc5fc7e",
   "metadata": {},
   "source": [
    "# Simple Conversion"
   ]
  },
  {
   "cell_type": "code",
   "execution_count": 2,
   "id": "d1d74dc4-ac2a-41cf-a01b-bb3e3669ae6d",
   "metadata": {},
   "outputs": [
    {
     "name": "stdout",
     "output_type": "stream",
     "text": [
      "One ether is equal to 1000000000000000000 wei\n",
      "1000000000000000000 wei is equal to 1000000000 gwei\n"
     ]
    }
   ],
   "source": [
    "num_ether = 1\n",
    "num_wei = Web3.toWei(1, 'ether')\n",
    "print(f'One ether is equal to {num_wei} wei')\n",
    "num_gwei = Web3.fromWei(num_wei, 'gwei')\n",
    "print(f'{num_wei} wei is equal to {num_gwei} gwei')"
   ]
  },
  {
   "cell_type": "markdown",
   "id": "4427f96d-c196-4f57-923f-921767cb687f",
   "metadata": {},
   "source": [
    "# Test provider "
   ]
  },
  {
   "cell_type": "code",
   "execution_count": 3,
   "id": "11f091ee-3699-48b1-bd3d-2a45380d2a4b",
   "metadata": {},
   "outputs": [
    {
     "data": {
      "text/plain": [
       "True"
      ]
     },
     "execution_count": 3,
     "metadata": {},
     "output_type": "execute_result"
    }
   ],
   "source": [
    "w3 = Web3(Web3.EthereumTesterProvider())\n",
    "w3.isConnected()"
   ]
  },
  {
   "cell_type": "markdown",
   "id": "bea36ac8-2eb3-454b-88e1-ae19c67c129b",
   "metadata": {},
   "source": [
    "# Accounts"
   ]
  },
  {
   "cell_type": "code",
   "execution_count": 4,
   "id": "a450f281-ffad-488a-ba60-00b08248b984",
   "metadata": {},
   "outputs": [
    {
     "name": "stdout",
     "output_type": "stream",
     "text": [
      "There are 10 accounts\n",
      "\n",
      "Account 0x7E5F4552091A69125d5DfCb7b8C2659029395Bdf has 1000000 ETH\n",
      "Account 0x2B5AD5c4795c026514f8317c7a215E218DcCD6cF has 1000000 ETH\n",
      "Account 0x6813Eb9362372EEF6200f3b1dbC3f819671cBA69 has 1000000 ETH\n",
      "Account 0x1efF47bc3a10a45D4B230B5d10E37751FE6AA718 has 1000000 ETH\n",
      "Account 0xe1AB8145F7E55DC933d51a18c793F901A3A0b276 has 1000000 ETH\n",
      "Account 0xE57bFE9F44b819898F47BF37E5AF72a0783e1141 has 1000000 ETH\n",
      "Account 0xd41c057fd1c78805AAC12B0A94a405c0461A6FBb has 1000000 ETH\n",
      "Account 0xF1F6619B38A98d6De0800F1DefC0a6399eB6d30C has 1000000 ETH\n",
      "Account 0xF7Edc8FA1eCc32967F827C9043FcAe6ba73afA5c has 1000000 ETH\n",
      "Account 0x4CCeBa2d7D2B4fdcE4304d3e09a1fea9fbEb1528 has 1000000 ETH\n"
     ]
    },
    {
     "name": "stderr",
     "output_type": "stream",
     "text": [
      "/home/brandon/src/learn-blockchain/.venv/lib/python3.8/site-packages/ipykernel/ipkernel.py:283: DeprecationWarning: `should_run_async` will not call `transform_cell` automatically in the future. Please pass the result to `transformed_cell` argument and any exception that happen during thetransform in `preprocessing_exc_tuple` in IPython 7.17 and above.\n",
      "  and should_run_async(code)\n"
     ]
    }
   ],
   "source": [
    "accs = w3.eth.accounts\n",
    "num_accs = len(accs)\n",
    "print(f'There are {num_accs} accounts\\n')\n",
    "for acc in accs:\n",
    "    balance = w3.fromWei(w3.eth.get_balance(acc), 'ether')\n",
    "    print(f'Account {acc} has {balance} ETH')"
   ]
  },
  {
   "cell_type": "markdown",
   "id": "7cad518f-2786-486b-8bad-68227afc22a7",
   "metadata": {},
   "source": [
    "# Block Data"
   ]
  },
  {
   "cell_type": "code",
   "execution_count": 5,
   "id": "5cb21b71-0baf-41b7-84f6-d4604865cb7c",
   "metadata": {},
   "outputs": [
    {
     "data": {
      "text/plain": [
       "AttributeDict({'number': 0,\n",
       " 'hash': HexBytes('0xf2839a81e5b594e1aec508e2d0443ba41e9b5b6efcdb0a4c604f9862b2f18ba3'),\n",
       " 'parentHash': HexBytes('0x0000000000000000000000000000000000000000000000000000000000000000'),\n",
       " 'nonce': HexBytes('0x000000000000002a'),\n",
       " 'sha3Uncles': HexBytes('0x1dcc4de8dec75d7aab85b567b6ccd41ad312451b948a7413f0a142fd40d49347'),\n",
       " 'logs_bloom': 0,\n",
       " 'transactionsRoot': HexBytes('0x56e81f171bcc55a6ff8345e692c0f86e5b48e01b996cadc001622fb5e363b421'),\n",
       " 'receipts_root': '0x56e81f171bcc55a6ff8345e692c0f86e5b48e01b996cadc001622fb5e363b421',\n",
       " 'stateRoot': HexBytes('0xf1588db9a9f1ed91effabdec31f93cb4212b008c8b8ba047fd55fabebf6fd727'),\n",
       " 'miner': '0x0000000000000000000000000000000000000000',\n",
       " 'difficulty': 131072,\n",
       " 'totalDifficulty': 131072,\n",
       " 'size': 511,\n",
       " 'extraData': HexBytes('0x0000000000000000000000000000000000000000000000000000000000000000'),\n",
       " 'gasLimit': 3141592,\n",
       " 'gasUsed': 0,\n",
       " 'timestamp': 1619659122,\n",
       " 'transactions': [],\n",
       " 'uncles': []})"
      ]
     },
     "execution_count": 5,
     "metadata": {},
     "output_type": "execute_result"
    }
   ],
   "source": [
    "w3.eth.get_block('latest')"
   ]
  },
  {
   "cell_type": "markdown",
   "id": "7ac8d3d0-e186-45fe-8761-a6df2a1bdc1d",
   "metadata": {},
   "source": [
    "There no transactions, which makes sense. "
   ]
  },
  {
   "cell_type": "markdown",
   "id": "274e9cbf-7a69-4a43-99de-c84b476b8c56",
   "metadata": {},
   "source": [
    "# Transactions\n",
    "Here, we send a random amount of ether from one account to another. "
   ]
  },
  {
   "cell_type": "code",
   "execution_count": 6,
   "id": "05509961-746a-4ad8-a081-68092ecda455",
   "metadata": {},
   "outputs": [],
   "source": [
    "import random as rand"
   ]
  },
  {
   "cell_type": "code",
   "execution_count": 7,
   "id": "92ebc1d1-71ab-4e26-abd4-8c9d8229f5c8",
   "metadata": {},
   "outputs": [
    {
     "name": "stdout",
     "output_type": "stream",
     "text": [
      "Transaction 0\n",
      "\n",
      "Balances:\n",
      "0x7E5F4552091A69125d5DfCb7b8C2659029395Bdf: 1000000\n",
      "0x2B5AD5c4795c026514f8317c7a215E218DcCD6cF: 1000000\n",
      " \n",
      "\n",
      "Sent 401352 ETH from 0x7E5F4552091A69125d5DfCb7b8C2659029395Bdf to 0x2B5AD5c4795c026514f8317c7a215E218DcCD6cF\n",
      "Balances:\n",
      "0x7E5F4552091A69125d5DfCb7b8C2659029395Bdf: 598647.999999999999979\n",
      "0x2B5AD5c4795c026514f8317c7a215E218DcCD6cF: 1401352\n",
      " \n",
      "--------------------------------------------------------------------------------------------\n",
      "Transaction 1\n",
      "\n",
      "Balances:\n",
      "0x2B5AD5c4795c026514f8317c7a215E218DcCD6cF: 1401352\n",
      "0x6813Eb9362372EEF6200f3b1dbC3f819671cBA69: 1000000\n",
      " \n",
      "\n",
      "Sent 686202 ETH from 0x2B5AD5c4795c026514f8317c7a215E218DcCD6cF to 0x6813Eb9362372EEF6200f3b1dbC3f819671cBA69\n",
      "Balances:\n",
      "0x2B5AD5c4795c026514f8317c7a215E218DcCD6cF: 715149.999999999999979\n",
      "0x6813Eb9362372EEF6200f3b1dbC3f819671cBA69: 1686202\n",
      " \n",
      "--------------------------------------------------------------------------------------------\n",
      "Transaction 2\n",
      "\n",
      "Balances:\n",
      "0x6813Eb9362372EEF6200f3b1dbC3f819671cBA69: 1686202\n",
      "0x1efF47bc3a10a45D4B230B5d10E37751FE6AA718: 1000000\n",
      " \n",
      "\n",
      "Sent 436702 ETH from 0x6813Eb9362372EEF6200f3b1dbC3f819671cBA69 to 0x1efF47bc3a10a45D4B230B5d10E37751FE6AA718\n",
      "Balances:\n",
      "0x6813Eb9362372EEF6200f3b1dbC3f819671cBA69: 1249499.999999999999979\n",
      "0x1efF47bc3a10a45D4B230B5d10E37751FE6AA718: 1436702\n",
      " \n",
      "--------------------------------------------------------------------------------------------\n",
      "Transaction 3\n",
      "\n",
      "Balances:\n",
      "0x1efF47bc3a10a45D4B230B5d10E37751FE6AA718: 1436702\n",
      "0xe1AB8145F7E55DC933d51a18c793F901A3A0b276: 1000000\n",
      " \n",
      "\n",
      "Sent 228231 ETH from 0x1efF47bc3a10a45D4B230B5d10E37751FE6AA718 to 0xe1AB8145F7E55DC933d51a18c793F901A3A0b276\n",
      "Balances:\n",
      "0x1efF47bc3a10a45D4B230B5d10E37751FE6AA718: 1208470.999999999999979\n",
      "0xe1AB8145F7E55DC933d51a18c793F901A3A0b276: 1228231\n",
      " \n",
      "--------------------------------------------------------------------------------------------\n",
      "Transaction 4\n",
      "\n",
      "Balances:\n",
      "0xe1AB8145F7E55DC933d51a18c793F901A3A0b276: 1228231\n",
      "0xE57bFE9F44b819898F47BF37E5AF72a0783e1141: 1000000\n",
      " \n",
      "\n",
      "Sent 964718 ETH from 0xe1AB8145F7E55DC933d51a18c793F901A3A0b276 to 0xE57bFE9F44b819898F47BF37E5AF72a0783e1141\n",
      "Balances:\n",
      "0xe1AB8145F7E55DC933d51a18c793F901A3A0b276: 263512.999999999999979\n",
      "0xE57bFE9F44b819898F47BF37E5AF72a0783e1141: 1964718\n",
      " \n",
      "--------------------------------------------------------------------------------------------\n",
      "Transaction 5\n",
      "\n",
      "Balances:\n",
      "0xE57bFE9F44b819898F47BF37E5AF72a0783e1141: 1964718\n",
      "0xd41c057fd1c78805AAC12B0A94a405c0461A6FBb: 1000000\n",
      " \n",
      "\n",
      "Sent 683686 ETH from 0xE57bFE9F44b819898F47BF37E5AF72a0783e1141 to 0xd41c057fd1c78805AAC12B0A94a405c0461A6FBb\n",
      "Balances:\n",
      "0xE57bFE9F44b819898F47BF37E5AF72a0783e1141: 1281031.999999999999979\n",
      "0xd41c057fd1c78805AAC12B0A94a405c0461A6FBb: 1683686\n",
      " \n",
      "--------------------------------------------------------------------------------------------\n",
      "Transaction 6\n",
      "\n",
      "Balances:\n",
      "0xd41c057fd1c78805AAC12B0A94a405c0461A6FBb: 1683686\n",
      "0xF1F6619B38A98d6De0800F1DefC0a6399eB6d30C: 1000000\n",
      " \n",
      "\n",
      "Sent 37181 ETH from 0xd41c057fd1c78805AAC12B0A94a405c0461A6FBb to 0xF1F6619B38A98d6De0800F1DefC0a6399eB6d30C\n",
      "Balances:\n",
      "0xd41c057fd1c78805AAC12B0A94a405c0461A6FBb: 1646504.999999999999979\n",
      "0xF1F6619B38A98d6De0800F1DefC0a6399eB6d30C: 1037181\n",
      " \n",
      "--------------------------------------------------------------------------------------------\n",
      "Transaction 7\n",
      "\n",
      "Balances:\n",
      "0xF1F6619B38A98d6De0800F1DefC0a6399eB6d30C: 1037181\n",
      "0xF7Edc8FA1eCc32967F827C9043FcAe6ba73afA5c: 1000000\n",
      " \n",
      "\n",
      "Sent 583078 ETH from 0xF1F6619B38A98d6De0800F1DefC0a6399eB6d30C to 0xF7Edc8FA1eCc32967F827C9043FcAe6ba73afA5c\n",
      "Balances:\n",
      "0xF1F6619B38A98d6De0800F1DefC0a6399eB6d30C: 454102.999999999999979\n",
      "0xF7Edc8FA1eCc32967F827C9043FcAe6ba73afA5c: 1583078\n",
      " \n",
      "--------------------------------------------------------------------------------------------\n",
      "Transaction 8\n",
      "\n",
      "Balances:\n",
      "0xF7Edc8FA1eCc32967F827C9043FcAe6ba73afA5c: 1583078\n",
      "0x4CCeBa2d7D2B4fdcE4304d3e09a1fea9fbEb1528: 1000000\n",
      " \n",
      "\n",
      "Sent 785938 ETH from 0xF7Edc8FA1eCc32967F827C9043FcAe6ba73afA5c to 0x4CCeBa2d7D2B4fdcE4304d3e09a1fea9fbEb1528\n",
      "Balances:\n",
      "0xF7Edc8FA1eCc32967F827C9043FcAe6ba73afA5c: 797139.999999999999979\n",
      "0x4CCeBa2d7D2B4fdcE4304d3e09a1fea9fbEb1528: 1785938\n",
      " \n",
      "--------------------------------------------------------------------------------------------\n",
      "Transaction 9\n",
      "\n",
      "Balances:\n",
      "0x4CCeBa2d7D2B4fdcE4304d3e09a1fea9fbEb1528: 1785938\n",
      "0x7E5F4552091A69125d5DfCb7b8C2659029395Bdf: 598647.999999999999979\n",
      " \n",
      "\n",
      "Sent 245837 ETH from 0x4CCeBa2d7D2B4fdcE4304d3e09a1fea9fbEb1528 to 0x7E5F4552091A69125d5DfCb7b8C2659029395Bdf\n",
      "Balances:\n",
      "0x4CCeBa2d7D2B4fdcE4304d3e09a1fea9fbEb1528: 1540100.999999999999979\n",
      "0x7E5F4552091A69125d5DfCb7b8C2659029395Bdf: 844484.999999999999979\n",
      " \n",
      "--------------------------------------------------------------------------------------------\n"
     ]
    }
   ],
   "source": [
    "balance = w3.fromWei(w3.eth.get_balance(acc), 'ether')\n",
    "for i in range(num_accs):\n",
    "    print(f'Transaction {i}\\n')\n",
    "    tx_idx = i\n",
    "    rx_idx = i + 1\n",
    "    if i == num_accs - 1:\n",
    "        rx_idx = 0\n",
    "    else:\n",
    "        rx_idx = i + 1\n",
    "        \n",
    "    amt = rand.randint(1, 1000000)\n",
    "    tx = accs[tx_idx]\n",
    "    rx = accs[rx_idx]\n",
    "    # balances before\n",
    "    print(f'Balances:')\n",
    "    tx_balance = w3.fromWei(w3.eth.get_balance(tx), 'ether')\n",
    "    rx_balance = w3.fromWei(w3.eth.get_balance(rx), 'ether')\n",
    "    print(f'{tx}: {tx_balance}\\n{rx}: {rx_balance}\\n ')\n",
    "    \n",
    "    # send \n",
    "    tx_hash = w3.eth.send_transaction({'from': tx, 'to': rx, 'value': w3.toWei(amt, 'ether')})\n",
    "    # wait to be minded\n",
    "    w3.eth.wait_for_transaction_receipt(tx_hash)\n",
    "    # view the transaction \n",
    "    trans = w3.eth.get_transaction(tx_hash)\n",
    "    \n",
    "    print(f'\\nSent {amt} ETH from {tx} to {rx}')\n",
    "    \n",
    "    print(f'Balances:')\n",
    "    tx_balance = w3.fromWei(w3.eth.get_balance(tx), 'ether')\n",
    "    rx_balance = w3.fromWei(w3.eth.get_balance(rx), 'ether')\n",
    "    print(f'{tx}: {tx_balance}\\n{rx}: {rx_balance}\\n ')\n",
    "    print('--------------------------------------------------------------------------------------------')"
   ]
  },
  {
   "cell_type": "markdown",
   "id": "78eb66c8-41e1-47e9-ab3a-66f9db1aad81",
   "metadata": {},
   "source": [
    "## Notice the .999999999999979 ... that is because of the gas fee. "
   ]
  },
  {
   "cell_type": "code",
   "execution_count": null,
   "id": "52c8d4b1-6f6d-4a38-ae5d-cbd97e413041",
   "metadata": {},
   "outputs": [],
   "source": []
  }
 ],
 "metadata": {
  "kernelspec": {
   "display_name": "Python 3",
   "language": "python",
   "name": "python3"
  },
  "language_info": {
   "codemirror_mode": {
    "name": "ipython",
    "version": 3
   },
   "file_extension": ".py",
   "mimetype": "text/x-python",
   "name": "python",
   "nbconvert_exporter": "python",
   "pygments_lexer": "ipython3",
   "version": "3.8.6"
  }
 },
 "nbformat": 4,
 "nbformat_minor": 5
}
